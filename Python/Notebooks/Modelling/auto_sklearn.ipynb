{
 "cells": [
  {
   "cell_type": "code",
   "execution_count": null,
   "metadata": {},
   "outputs": [],
   "source": [
    "!pip install auto-sklearn"
   ]
  },
  {
   "cell_type": "code",
   "execution_count": 11,
   "metadata": {},
   "outputs": [
    {
     "ename": "ModuleNotFoundError",
     "evalue": "No module named 'autosklearn'",
     "output_type": "error",
     "traceback": [
      "\u001b[1;31m---------------------------------------------------------------------------\u001b[0m",
      "\u001b[1;31mModuleNotFoundError\u001b[0m                       Traceback (most recent call last)",
      "Cell \u001b[1;32mIn[11], line 12\u001b[0m\n\u001b[0;32m     10\u001b[0m \u001b[38;5;28;01mimport\u001b[39;00m \u001b[38;5;21;01mmatplotlib\u001b[39;00m\u001b[38;5;21;01m.\u001b[39;00m\u001b[38;5;21;01mpyplot\u001b[39;00m \u001b[38;5;28;01mas\u001b[39;00m \u001b[38;5;21;01mplt\u001b[39;00m\n\u001b[0;32m     11\u001b[0m \u001b[38;5;28;01mimport\u001b[39;00m \u001b[38;5;21;01mseaborn\u001b[39;00m \u001b[38;5;28;01mas\u001b[39;00m \u001b[38;5;21;01msns\u001b[39;00m\n\u001b[1;32m---> 12\u001b[0m \u001b[38;5;28;01mimport\u001b[39;00m \u001b[38;5;21;01mautosklearn\u001b[39;00m\n\u001b[0;32m     13\u001b[0m \u001b[38;5;28;01mfrom\u001b[39;00m \u001b[38;5;21;01mautosklearn\u001b[39;00m\u001b[38;5;21;01m.\u001b[39;00m\u001b[38;5;21;01mclassification\u001b[39;00m \u001b[38;5;28;01mimport\u001b[39;00m AutoSklearnClassifier\n\u001b[0;32m     14\u001b[0m \u001b[38;5;28;01mfrom\u001b[39;00m \u001b[38;5;21;01mautosklearn\u001b[39;00m\u001b[38;5;21;01m.\u001b[39;00m\u001b[38;5;21;01mpipeline\u001b[39;00m\u001b[38;5;21;01m.\u001b[39;00m\u001b[38;5;21;01mcomponents\u001b[39;00m\u001b[38;5;21;01m.\u001b[39;00m\u001b[38;5;21;01mclassification\u001b[39;00m \u001b[38;5;28;01mimport\u001b[39;00m (\n\u001b[0;32m     15\u001b[0m         DecisionTreeClassifier,\n\u001b[0;32m     16\u001b[0m         LogisticRegression\n\u001b[0;32m     17\u001b[0m     )\n",
      "\u001b[1;31mModuleNotFoundError\u001b[0m: No module named 'autosklearn'"
     ]
    }
   ],
   "source": [
    "import pandas as pd\n",
    "from sklearn.model_selection import train_test_split\n",
    "from sklearn.preprocessing import OneHotEncoder\n",
    "from sklearn.metrics import accuracy_score, precision_score, recall_score, f1_score, roc_auc_score, classification_report, confusion_matrix\n",
    "from sklearn.naive_bayes import GaussianNB\n",
    "from sklearn.ensemble import RandomForestClassifier\n",
    "from sklearn.linear_model import LogisticRegression\n",
    "from sklearn.tree import DecisionTreeClassifier\n",
    "from sklearn.tree import plot_tree\n",
    "import matplotlib.pyplot as plt\n",
    "import seaborn as sns\n",
    "import autosklearn\n",
    "from autosklearn.classification import AutoSklearnClassifier\n",
    "from autosklearn.pipeline.components.classification import (\n",
    "        DecisionTreeClassifier,\n",
    "        LogisticRegression\n",
    "    )\n",
    "from autosklearn.pipeline.components.feature_selection import SelectKBest\n",
    "\n"
   ]
  },
  {
   "cell_type": "code",
   "execution_count": null,
   "metadata": {},
   "outputs": [],
   "source": [
    "X_train = pd.read_csv('X_train_resampled.csv')\n",
    "y_train = pd.read_csv('y_train_resampled.csv')['Diagnostico_Depressao']\n",
    "X_test = pd.read_csv('X_test.csv')\n",
    "y_test = pd.read_csv('y_test.csv')['Diagnostico_Depressao']"
   ]
  },
  {
   "cell_type": "code",
   "execution_count": null,
   "metadata": {},
   "outputs": [],
   "source": [
    "# One Hot Encoding para features categóricas (se necessário)\n",
    "enc = OneHotEncoder(handle_unknown='ignore')\n",
    "X_train_encoded = enc.fit_transform(X_train).toarray()\n",
    "X_test_encoded = enc.transform(X_test).toarray()\n",
    "\n",
    "# Criando o modelo baseline\n",
    "baseline_model = LogisticRegression()\n",
    "baseline_model.fit(X_train_encoded, y_train)\n",
    "\n",
    "# Fazendo previsões\n",
    "y_pred_baseline = baseline_model.predict(X_test_encoded)\n",
    "\n",
    "# Avaliando o modelo baseline\n",
    "print(\"Avaliação do Baseline (One Hot Encoder):\")\n",
    "print(f\"Acurácia: {accuracy_score(y_test, y_pred_baseline)}\")\n",
    "print(f\"Precisão: {precision_score(y_test, y_pred_baseline)}\")\n",
    "print(f\"Recall: {recall_score(y_test, y_pred_baseline)}\")\n",
    "print(f\"F1-Score: {f1_score(y_test, y_pred_baseline)}\")\n",
    "print(f\"AUC: {roc_auc_score(y_test, y_pred_baseline)}\")\n",
    "print(classification_report(y_test, y_pred_baseline))\n",
    "\n",
    "# Matriz de Confusão\n",
    "cm = confusion_matrix(y_test, y_pred_baseline)\n",
    "sns.heatmap(cm, annot=True, fmt='d', cmap='Blues')\n",
    "plt.title('Matriz de Confusão (Baseline)')\n",
    "plt.xlabel('Previsões')\n",
    "plt.ylabel('Valores Reais')\n",
    "plt.show()"
   ]
  },
  {
   "cell_type": "code",
   "execution_count": 2,
   "metadata": {},
   "outputs": [
    {
     "ename": "NameError",
     "evalue": "name 'GaussianNB' is not defined",
     "output_type": "error",
     "traceback": [
      "\u001b[1;31m---------------------------------------------------------------------------\u001b[0m",
      "\u001b[1;31mNameError\u001b[0m                                 Traceback (most recent call last)",
      "Cell \u001b[1;32mIn[2], line 2\u001b[0m\n\u001b[0;32m      1\u001b[0m \u001b[38;5;66;03m# Naive Bayes\u001b[39;00m\n\u001b[1;32m----> 2\u001b[0m nb_model \u001b[38;5;241m=\u001b[39m \u001b[43mGaussianNB\u001b[49m()\n\u001b[0;32m      3\u001b[0m nb_model\u001b[38;5;241m.\u001b[39mfit(X_train_encoded, y_train)\n\u001b[0;32m      4\u001b[0m y_pred_nb \u001b[38;5;241m=\u001b[39m nb_model\u001b[38;5;241m.\u001b[39mpredict(X_test_encoded)\n",
      "\u001b[1;31mNameError\u001b[0m: name 'GaussianNB' is not defined"
     ]
    }
   ],
   "source": [
    "# Naive Bayes\n",
    "nb_model = GaussianNB()\n",
    "nb_model.fit(X_train_encoded, y_train)\n",
    "y_pred_nb = nb_model.predict(X_test_encoded)\n",
    "\n",
    "# Random Forest\n",
    "rf_model = RandomForestClassifier(random_state=42)\n",
    "rf_model.fit(X_train_encoded, y_train)\n",
    "y_pred_rf = rf_model.predict(X_test_encoded)\n",
    "\n",
    "# Regressão Logística\n",
    "lr_model = LogisticRegression()\n",
    "lr_model.fit(X_train_encoded, y_train)\n",
    "y_pred_lr = lr_model.predict(X_test_encoded)\n",
    "\n",
    "# Árvore de Decisão\n",
    "dt_model = DecisionTreeClassifier(random_state=42)\n",
    "dt_model.fit(X_train_encoded, y_train)\n",
    "y_pred_dt = dt_model.predict(X_test_encoded)\n",
    "\n",
    "# Auto-Sklearn para encontrar o melhor modelo\n",
    "automl = AutoSklearnClassifier(\n",
    "    include_estimators=[DecisionTreeClassifier, LogisticRegression],\n",
    "    include_preprocessors=[SelectKBest],\n",
    "    time_left_for_this_task=120,\n",
    "    per_run_time_limit=30,\n",
    "    n_jobs=-1\n",
    ")\n",
    "automl.fit(X_train_encoded, y_train)\n",
    "y_pred_automl = automl.predict(X_test_encoded)\n",
    "\n",
    "# Avaliação dos Modelos\n",
    "models = [\n",
    "    ('Baseline', y_pred_baseline, baseline_model),\n",
    "    ('Naive Bayes', y_pred_nb, nb_model),\n",
    "    ('Random Forest', y_pred_rf, rf_model),\n",
    "    ('Regressão Logística', y_pred_lr, lr_model),\n",
    "    ('Árvore de Decisão', y_pred_dt, dt_model),\n",
    "    ('Auto-Sklearn', y_pred_automl, automl)\n",
    "]\n",
    "\n",
    "metrics = ['Acurácia', 'Precisão', 'Recall', 'F1-Score', 'AUC']\n",
    "results = {}\n",
    "\n",
    "for name, y_pred, model in models:\n",
    "    results[name] = {}\n",
    "    results[name]['Acurácia'] = accuracy_score(y_test, y_pred)\n",
    "    results[name]['Precisão'] = precision_score(y_test, y_pred)\n",
    "    results[name]['Recall'] = recall_score(y_test, y_pred)\n",
    "    results[name]['F1-Score'] = f1_score(y_test, y_pred)\n",
    "    results[name]['AUC'] = roc_auc_score(y_test, y_pred)\n",
    "\n",
    "    print(f\"\\nAvaliação do {name}:\")\n",
    "    print(classification_report(y_test, y_pred))\n",
    "\n",
    "    # Matriz de Confusão\n",
    "    cm = confusion_matrix(y_test, y_pred)\n",
    "    sns.heatmap(cm, annot=True, fmt='d', cmap='Blues')\n",
    "    plt.title(f'Matriz de Confusão ({name})')\n",
    "    plt.xlabel('Previsões')\n",
    "    plt.ylabel('Valores Reais')\n",
    "    plt.show()\n",
    "\n",
    "    # Imprimindo a árvore de decisão\n",
    "    if isinstance(model, DecisionTreeClassifier):\n",
    "        plt.figure(figsize=(15, 10))\n",
    "        plot_tree(model, filled=True, feature_names=X_train.columns, class_names=['Sem Depressão', 'Depressão'], rounded=True)\n",
    "        plt.title(f'Árvore de Decisão ({name})')\n",
    "        plt.show()\n",
    "\n",
    "    # Imprimindo a linha de regressão (somente para modelos lineares)\n",
    "    if isinstance(model, LogisticRegression):\n",
    "        plt.figure(figsize=(10, 6))\n",
    "        sns.scatterplot(x=X_train_encoded[:, 0], y=y_train, label='Dados de Treinamento', color='blue')\n",
    "        sns.lineplot(x=X_test_encoded[:, 0], y=lr_model.predict_proba(X_test_encoded)[:, 1], label='Linha de Regressão', color='red')\n",
    "        plt.title(f'Linha de Regressão ({name})')\n",
    "        plt.xlabel('Feature 1 (Exemplo)')\n",
    "        plt.ylabel('Probabilidade de Depressão')\n",
    "        plt.show()\n",
    "\n",
    "# Gráfico comparativo das métricas\n",
    "fig, axs = plt.subplots(len(metrics), 1, figsize=(10, 6 * len(metrics)))\n",
    "for i, metric in enumerate(metrics):\n",
    "    axs[i].bar(results.keys(), [results[model][metric] for model in results])\n",
    "    axs[i].set_ylabel(metric)\n",
    "plt.tight_layout()\n",
    "plt.show()"
   ]
  }
 ],
 "metadata": {
  "kernelspec": {
   "display_name": "Python 3",
   "language": "python",
   "name": "python3"
  },
  "language_info": {
   "codemirror_mode": {
    "name": "ipython",
    "version": 3
   },
   "file_extension": ".py",
   "mimetype": "text/x-python",
   "name": "python",
   "nbconvert_exporter": "python",
   "pygments_lexer": "ipython3",
   "version": "3.9.10"
  }
 },
 "nbformat": 4,
 "nbformat_minor": 2
}
