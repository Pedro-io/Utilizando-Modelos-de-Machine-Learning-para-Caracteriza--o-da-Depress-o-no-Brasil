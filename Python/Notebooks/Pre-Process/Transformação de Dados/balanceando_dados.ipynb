{
 "cells": [
  {
   "cell_type": "code",
   "execution_count": 1,
   "metadata": {},
   "outputs": [],
   "source": [
    "import pandas as pd "
   ]
  },
  {
   "cell_type": "code",
   "execution_count": 2,
   "metadata": {},
   "outputs": [],
   "source": [
    "df = pd.read_csv(r'C:\\Users\\maype\\OneDrive - sga.pucminas.br\\Área de Trabalho\\Faculdade\\projects\\Utilizando-Modelos-de-Machine-Learning-para-Caracterização-da-Depressão-no-Brasil\\Data\\Bases Modificadas\\df_sem_outliers.csv')"
   ]
  },
  {
   "cell_type": "code",
   "execution_count": 3,
   "metadata": {},
   "outputs": [
    {
     "data": {
      "text/plain": [
       "Sexo                                              float64\n",
       "Apoio_Familiar                                    float64\n",
       "Apoio_de_Amigos                                   float64\n",
       "Curso_Mais_Elevado                                float64\n",
       "Diagnostico_Depressao                             float64\n",
       "Estado_de_Saude                                   float64\n",
       "Pratica_Exercicio                                 float64\n",
       "Procura_Atendimento_Saude                         float64\n",
       "Problemas_Sono                                    float64\n",
       "peso_consolidado(KG)                              float64\n",
       "altura_consolidada(CM)                            float64\n",
       "renda_total                                       float64\n",
       "idade                                             float64\n",
       "trabalhou                                         float64\n",
       "doencas_cronicas                                    int64\n",
       "moradia_vulneravel                                  int64\n",
       "freq_bebida_alcoolica                             float64\n",
       "Consumo de Graos e Tuberculos                     float64\n",
       "Consumo de Leguminosas                            float64\n",
       "Consumo de Carnes                                 float64\n",
       "Consumo de Ovos                                   float64\n",
       "Consumo de Verduras e Legumes                     float64\n",
       "Consumo de Frutas                                 float64\n",
       "Consumo de Laticinios                             float64\n",
       "Consumo de Oleaginosas                            float64\n",
       "Consumo de Refrigerantes                          float64\n",
       "Consumo de Sucos Industrializados                 float64\n",
       "Consumo de Sucos Naturais                         float64\n",
       "Consumo de Bebidas Lacteas                        float64\n",
       "Consumo de Salgadinhos e Biscoitos Salgados       float64\n",
       "Consumo de Doces e Sobremesas Industrializadas    float64\n",
       "Consumo de Embutidos e Alimentos Processados      float64\n",
       "Consumo de Paes Industrializados                  float64\n",
       "Consumo de Molhos Industrializados                float64\n",
       "Consumo de Sal                                    float64\n",
       "dtype: object"
      ]
     },
     "execution_count": 3,
     "metadata": {},
     "output_type": "execute_result"
    }
   ],
   "source": [
    "df.dtypes"
   ]
  },
  {
   "cell_type": "code",
   "execution_count": 4,
   "metadata": {},
   "outputs": [
    {
     "data": {
      "text/plain": [
       "Sexo                                              category\n",
       "Apoio_Familiar                                    category\n",
       "Apoio_de_Amigos                                   category\n",
       "Curso_Mais_Elevado                                category\n",
       "Diagnostico_Depressao                             category\n",
       "Estado_de_Saude                                   category\n",
       "Pratica_Exercicio                                 category\n",
       "Procura_Atendimento_Saude                         category\n",
       "Problemas_Sono                                    category\n",
       "peso_consolidado(KG)                              category\n",
       "altura_consolidada(CM)                            category\n",
       "renda_total                                       category\n",
       "idade                                             category\n",
       "trabalhou                                         category\n",
       "doencas_cronicas                                  category\n",
       "moradia_vulneravel                                category\n",
       "freq_bebida_alcoolica                             category\n",
       "Consumo de Graos e Tuberculos                     category\n",
       "Consumo de Leguminosas                            category\n",
       "Consumo de Carnes                                 category\n",
       "Consumo de Ovos                                   category\n",
       "Consumo de Verduras e Legumes                     category\n",
       "Consumo de Frutas                                 category\n",
       "Consumo de Laticinios                             category\n",
       "Consumo de Oleaginosas                            category\n",
       "Consumo de Refrigerantes                          category\n",
       "Consumo de Sucos Industrializados                 category\n",
       "Consumo de Sucos Naturais                         category\n",
       "Consumo de Bebidas Lacteas                        category\n",
       "Consumo de Salgadinhos e Biscoitos Salgados       category\n",
       "Consumo de Doces e Sobremesas Industrializadas    category\n",
       "Consumo de Embutidos e Alimentos Processados      category\n",
       "Consumo de Paes Industrializados                  category\n",
       "Consumo de Molhos Industrializados                category\n",
       "Consumo de Sal                                    category\n",
       "dtype: object"
      ]
     },
     "execution_count": 4,
     "metadata": {},
     "output_type": "execute_result"
    }
   ],
   "source": [
    "df =df.astype('category')\n",
    "df.dtypes"
   ]
  },
  {
   "cell_type": "code",
   "execution_count": 5,
   "metadata": {},
   "outputs": [],
   "source": [
    "# Convertendo as colunas numéricas para float\n",
    "df['peso_consolidado(KG)'] = df['peso_consolidado(KG)'].astype(float)\n",
    "df['altura_consolidada(CM)'] = df['altura_consolidada(CM)'].astype(float)\n",
    "df['renda_total'] = df['renda_total'].astype(float)\n",
    "df['idade'] = df['idade'].astype(int)"
   ]
  },
  {
   "cell_type": "code",
   "execution_count": 6,
   "metadata": {},
   "outputs": [],
   "source": [
    "df = df.drop('idade', axis= 1)"
   ]
  },
  {
   "cell_type": "code",
   "execution_count": 7,
   "metadata": {},
   "outputs": [
    {
     "data": {
      "text/plain": [
       "Index(['Sexo', 'Apoio_Familiar', 'Apoio_de_Amigos', 'Curso_Mais_Elevado',\n",
       "       'Diagnostico_Depressao', 'Estado_de_Saude', 'Pratica_Exercicio',\n",
       "       'Procura_Atendimento_Saude', 'Problemas_Sono', 'peso_consolidado(KG)',\n",
       "       'altura_consolidada(CM)', 'renda_total', 'trabalhou',\n",
       "       'doencas_cronicas', 'moradia_vulneravel', 'freq_bebida_alcoolica',\n",
       "       'Consumo de Graos e Tuberculos', 'Consumo de Leguminosas',\n",
       "       'Consumo de Carnes', 'Consumo de Ovos', 'Consumo de Verduras e Legumes',\n",
       "       'Consumo de Frutas', 'Consumo de Laticinios', 'Consumo de Oleaginosas',\n",
       "       'Consumo de Refrigerantes', 'Consumo de Sucos Industrializados',\n",
       "       'Consumo de Sucos Naturais', 'Consumo de Bebidas Lacteas',\n",
       "       'Consumo de Salgadinhos e Biscoitos Salgados',\n",
       "       'Consumo de Doces e Sobremesas Industrializadas',\n",
       "       'Consumo de Embutidos e Alimentos Processados',\n",
       "       'Consumo de Paes Industrializados',\n",
       "       'Consumo de Molhos Industrializados', 'Consumo de Sal'],\n",
       "      dtype='object')"
      ]
     },
     "execution_count": 7,
     "metadata": {},
     "output_type": "execute_result"
    }
   ],
   "source": [
    "df.columns"
   ]
  },
  {
   "cell_type": "code",
   "execution_count": 8,
   "metadata": {},
   "outputs": [
    {
     "name": "stdout",
     "output_type": "stream",
     "text": [
      "<class 'pandas.core.frame.DataFrame'>\n",
      "RangeIndex: 35190 entries, 0 to 35189\n",
      "Data columns (total 34 columns):\n",
      " #   Column                                          Non-Null Count  Dtype   \n",
      "---  ------                                          --------------  -----   \n",
      " 0   Sexo                                            35190 non-null  category\n",
      " 1   Apoio_Familiar                                  35190 non-null  category\n",
      " 2   Apoio_de_Amigos                                 35190 non-null  category\n",
      " 3   Curso_Mais_Elevado                              35190 non-null  category\n",
      " 4   Diagnostico_Depressao                           35190 non-null  category\n",
      " 5   Estado_de_Saude                                 35190 non-null  category\n",
      " 6   Pratica_Exercicio                               35190 non-null  category\n",
      " 7   Procura_Atendimento_Saude                       35190 non-null  category\n",
      " 8   Problemas_Sono                                  35190 non-null  category\n",
      " 9   peso_consolidado(KG)                            35190 non-null  float64 \n",
      " 10  altura_consolidada(CM)                          35190 non-null  float64 \n",
      " 11  renda_total                                     35190 non-null  float64 \n",
      " 12  trabalhou                                       35190 non-null  category\n",
      " 13  doencas_cronicas                                35190 non-null  category\n",
      " 14  moradia_vulneravel                              35190 non-null  category\n",
      " 15  freq_bebida_alcoolica                           35190 non-null  category\n",
      " 16  Consumo de Graos e Tuberculos                   35190 non-null  category\n",
      " 17  Consumo de Leguminosas                          35190 non-null  category\n",
      " 18  Consumo de Carnes                               35190 non-null  category\n",
      " 19  Consumo de Ovos                                 35190 non-null  category\n",
      " 20  Consumo de Verduras e Legumes                   35190 non-null  category\n",
      " 21  Consumo de Frutas                               35190 non-null  category\n",
      " 22  Consumo de Laticinios                           35190 non-null  category\n",
      " 23  Consumo de Oleaginosas                          35190 non-null  category\n",
      " 24  Consumo de Refrigerantes                        35190 non-null  category\n",
      " 25  Consumo de Sucos Industrializados               35190 non-null  category\n",
      " 26  Consumo de Sucos Naturais                       35190 non-null  category\n",
      " 27  Consumo de Bebidas Lacteas                      35190 non-null  category\n",
      " 28  Consumo de Salgadinhos e Biscoitos Salgados     35190 non-null  category\n",
      " 29  Consumo de Doces e Sobremesas Industrializadas  35190 non-null  category\n",
      " 30  Consumo de Embutidos e Alimentos Processados    35190 non-null  category\n",
      " 31  Consumo de Paes Industrializados                35190 non-null  category\n",
      " 32  Consumo de Molhos Industrializados              35190 non-null  category\n",
      " 33  Consumo de Sal                                  35190 non-null  category\n",
      "dtypes: category(31), float64(3)\n",
      "memory usage: 1.9 MB\n"
     ]
    }
   ],
   "source": [
    "df.info()"
   ]
  },
  {
   "cell_type": "code",
   "execution_count": 9,
   "metadata": {},
   "outputs": [
    {
     "data": {
      "text/plain": [
       "Diagnostico_Depressao\n",
       "2.0    31148\n",
       "1.0     4042\n",
       "Name: count, dtype: int64"
      ]
     },
     "execution_count": 9,
     "metadata": {},
     "output_type": "execute_result"
    }
   ],
   "source": [
    "df['Diagnostico_Depressao'].value_counts()"
   ]
  },
  {
   "cell_type": "code",
   "execution_count": 10,
   "metadata": {},
   "outputs": [
    {
     "data": {
      "text/plain": [
       "Sexo                                              0\n",
       "Apoio_Familiar                                    0\n",
       "Apoio_de_Amigos                                   0\n",
       "Curso_Mais_Elevado                                0\n",
       "Diagnostico_Depressao                             0\n",
       "Estado_de_Saude                                   0\n",
       "Pratica_Exercicio                                 0\n",
       "Procura_Atendimento_Saude                         0\n",
       "Problemas_Sono                                    0\n",
       "peso_consolidado(KG)                              0\n",
       "altura_consolidada(CM)                            0\n",
       "renda_total                                       0\n",
       "trabalhou                                         0\n",
       "doencas_cronicas                                  0\n",
       "moradia_vulneravel                                0\n",
       "freq_bebida_alcoolica                             0\n",
       "Consumo de Graos e Tuberculos                     0\n",
       "Consumo de Leguminosas                            0\n",
       "Consumo de Carnes                                 0\n",
       "Consumo de Ovos                                   0\n",
       "Consumo de Verduras e Legumes                     0\n",
       "Consumo de Frutas                                 0\n",
       "Consumo de Laticinios                             0\n",
       "Consumo de Oleaginosas                            0\n",
       "Consumo de Refrigerantes                          0\n",
       "Consumo de Sucos Industrializados                 0\n",
       "Consumo de Sucos Naturais                         0\n",
       "Consumo de Bebidas Lacteas                        0\n",
       "Consumo de Salgadinhos e Biscoitos Salgados       0\n",
       "Consumo de Doces e Sobremesas Industrializadas    0\n",
       "Consumo de Embutidos e Alimentos Processados      0\n",
       "Consumo de Paes Industrializados                  0\n",
       "Consumo de Molhos Industrializados                0\n",
       "Consumo de Sal                                    0\n",
       "dtype: int64"
      ]
     },
     "execution_count": 10,
     "metadata": {},
     "output_type": "execute_result"
    }
   ],
   "source": [
    "df.isna().sum()"
   ]
  },
  {
   "cell_type": "markdown",
   "metadata": {},
   "source": [
    "### Balanceado os dados"
   ]
  },
  {
   "cell_type": "code",
   "execution_count": 11,
   "metadata": {},
   "outputs": [],
   "source": [
    "# 1. Importar as bibliotecas necessárias\n",
    "from imblearn.under_sampling import RandomUnderSampler\n",
    "from sklearn.model_selection import train_test_split\n",
    "from imblearn.under_sampling import RandomUnderSampler\n",
    "import matplotlib.pyplot as plt\n",
    "\n",
    "# 2. Separar as features (X) e o target (y)\n",
    "X = df.drop('Diagnostico_Depressao', axis=1)\n",
    "y = df['Diagnostico_Depressao']\n",
    "\n",
    "# 3. Dividir os dados em treino e teste\n",
    "X_train, X_test, y_train, y_test = train_test_split(X, y, test_size=0.2, random_state=42)\n",
    "\n",
    "# 4. Criar um objeto RandomUnderSampler\n",
    "rus = RandomUnderSampler(random_state=42)\n",
    "\n",
    "# 5. Aplicar o undersampling ao conjunto de treino\n",
    "X_train_resampled, y_train_resampled = rus.fit_resample(X_train, y_train)\n"
   ]
  },
  {
   "cell_type": "code",
   "execution_count": 12,
   "metadata": {},
   "outputs": [
    {
     "data": {
      "image/png": "[encoded data removed]",
      "text/plain": [
       "<Figure size 1000x500 with 2 Axes>"
      ]
     },
     "metadata": {},
     "output_type": "display_data"
    }
   ],
   "source": [
    "plt.figure(figsize=(10, 5))\n",
    "\n",
    "# Histograma da base desbalanceada\n",
    "plt.subplot(1, 2, 1)\n",
    "plt.hist(y_train, bins=2, edgecolor='black')\n",
    "plt.title('Base Desbalanceada')\n",
    "plt.xlabel('Diagnostico_Depressao')\n",
    "plt.ylabel('Contagem')\n",
    "\n",
    "# Histograma da base balanceada\n",
    "plt.subplot(1, 2, 2)\n",
    "plt.hist(y_train_resampled, bins=2, edgecolor='black')\n",
    "plt.title('Base Balanceada')\n",
    "plt.xlabel('Diagnostico_Depressao')\n",
    "plt.ylabel('Contagem')\n",
    "\n",
    "plt.tight_layout()\n",
    "plt.show()"
   ]
  },
  {
   "cell_type": "code",
   "execution_count": 16,
   "metadata": {},
   "outputs": [],
   "source": [
    "# Salvar os dados de treino\n",
    "X_train_resampled.to_csv(r'C:\\Users\\maype\\OneDrive - sga.pucminas.br\\Área de Trabalho\\Faculdade\\projects\\Utilizando-Modelos-de-Machine-Learning-para-Caracterização-da-Depressão-no-Brasil\\Python\\Notebooks\\Modelling\\X_train_resampled.csv', index=False)\n",
    "y_train_resampled.to_csv(r'C:\\Users\\maype\\OneDrive - sga.pucminas.br\\Área de Trabalho\\Faculdade\\projects\\Utilizando-Modelos-de-Machine-Learning-para-Caracterização-da-Depressão-no-Brasil\\Python\\Notebooks\\Modelling\\y_train_resampled.csv', index=False)\n",
    "\n",
    "# Salvar os dados de teste\n",
    "X_test.to_csv(r'C:\\Users\\maype\\OneDrive - sga.pucminas.br\\Área de Trabalho\\Faculdade\\projects\\Utilizando-Modelos-de-Machine-Learning-para-Caracterização-da-Depressão-no-Brasil\\Python\\Notebooks\\Modelling\\X_test.csv', index=False)\n",
    "y_test.to_csv(r'C:\\Users\\maype\\OneDrive - sga.pucminas.br\\Área de Trabalho\\Faculdade\\projects\\Utilizando-Modelos-de-Machine-Learning-para-Caracterização-da-Depressão-no-Brasil\\Python\\Notebooks\\Modelling\\y_test.csv', index=False)"
   ]
  }
 ],
 "metadata": {
  "kernelspec": {
   "display_name": "Python 3",
   "language": "python",
   "name": "python3"
  },
  "language_info": {
   "codemirror_mode": {
    "name": "ipython",
    "version": 3
   },
   "file_extension": ".py",
   "mimetype": "text/x-python",
   "name": "python",
   "nbconvert_exporter": "python",
   "pygments_lexer": "ipython3",
   "version": "3.11.9"
  }
 },
 "nbformat": 4,
 "nbformat_minor": 2
}
